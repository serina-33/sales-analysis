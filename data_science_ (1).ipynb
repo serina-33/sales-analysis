{
  "nbformat": 4,
  "nbformat_minor": 0,
  "metadata": {
    "colab": {
      "provenance": []
    },
    "kernelspec": {
      "name": "python3",
      "display_name": "Python 3"
    },
    "language_info": {
      "name": "python"
    }
  },
  "cells": [
    {
      "cell_type": "code",
      "execution_count": null,
      "metadata": {
        "colab": {
          "base_uri": "https://localhost:8080/"
        },
        "id": "7s-DSUY_nnu_",
        "outputId": "3f6f4b21-e8ee-4a4d-f675-12c31f0f7ccb"
      },
      "outputs": [
        {
          "output_type": "stream",
          "name": "stdout",
          "text": [
            "Enter your name: leo\n",
            "Enter your age: 18\n",
            "Enter your hobby: playing cricket \n",
            "\n",
            "Hello leo! 👋\n",
            "You are 18 years old and you love playing cricket .\n",
            "Welcome to this program — great to meet you!\n"
          ]
        }
      ],
      "source": [
        "# Personal Introduction Program\n",
        "\n",
        "# Ask for user inputs\n",
        "name = input(\"Enter your name: \")\n",
        "age = input(\"Enter your age: \")\n",
        "hobby = input(\"Enter your hobby: \")\n",
        "\n",
        "# Display the result\n",
        "print(\"\\nHello \" + name + \"! 👋\")\n",
        "print(\"You are \" + age + \" years old and you love \" + hobby + \".\")\n",
        "print(\"Welcome to this program — great to meet you!\")"
      ]
    },
    {
      "cell_type": "code",
      "source": [
        "project -2"
      ],
      "metadata": {
        "id": "YFkR1zdg68T2"
      },
      "execution_count": null,
      "outputs": []
    },
    {
      "cell_type": "code",
      "source": [
        "# 🎓 Student Grade Calculator 🎓\n",
        "\n",
        "print(\"Welcome to the Student Grade Calculator!\")\n",
        "print(\"----------------------------------------\")\n",
        "\n",
        "# Step 1: Get marks from the user\n",
        "marks = float(input(\"Enter your marks (0-100): \"))\n",
        "\n",
        "# Step 2: Validate the input\n",
        "if marks < 0 or marks > 100:\n",
        "    print(\"❌ Invalid input! Please enter marks between 0 and 100.\")\n",
        "else:\n",
        "    # Step 3: Use if-else to find the grade\n",
        "    if marks >= 90:\n",
        "        grade = \"A\"\n",
        "        message = \"Excellent work! 🌟\"\n",
        "    elif marks >= 80:\n",
        "        grade = \"B\"\n",
        "        message = \"Great job! Keep it up! 👍\"\n",
        "    elif marks >= 70:\n",
        "        grade = \"C\"\n",
        "        message = \"Good effort! You can do even better! 💪\"\n",
        "    elif marks >= 60:\n",
        "        grade = \"D\"\n",
        "        message = \"You passed, but aim higher next time! 🎯\"\n",
        "    else:\n",
        "        grade = \"F\"\n",
        "        message = \"Don’t give up — keep practicing! 📘\"\n",
        "\n",
        "    # Step 4: Show the result\n",
        "    print(f\"\\nYour Grade: {grade}\")\n",
        "    print(f\"Feedback: {message}\")\n"
      ],
      "metadata": {
        "colab": {
          "base_uri": "https://localhost:8080/"
        },
        "id": "c-6Vpfzz69p3",
        "outputId": "438d406d-3211-44d4-e7f6-62d14bd8beb3"
      },
      "execution_count": null,
      "outputs": [
        {
          "output_type": "stream",
          "name": "stdout",
          "text": [
            "Welcome to the Student Grade Calculator!\n",
            "----------------------------------------\n",
            "Enter your marks (0-100): 78\n",
            "\n",
            "Your Grade: C\n",
            "Feedback: Good effort! You can do even better! 💪\n"
          ]
        }
      ]
    },
    {
      "cell_type": "code",
      "source": [
        "import pandas as pd\n",
        "from datetime import datetime\n",
        "import matplotlib.pyplot as plt\n"
      ],
      "metadata": {
        "id": "WWDGw1ildTic"
      },
      "execution_count": 1,
      "outputs": []
    },
    {
      "cell_type": "code",
      "source": [
        "data = {\n",
        "    \"OrderID\": [1001,1002,1003,1004,1005],\n",
        "    \"Date\": [\"2025-01-05\",\"2025-01-12\",\"2025-01-20\",\"2025-02-01\",\"2025-02-03\"],\n",
        "    \"Product\": [\"Notebook\",\"Pen\",\"Notebook\",\"Stapler\",\"Pen\"],\n",
        "    \"UnitPrice\": [3.50,0.75,3.50,7.00,0.75],\n",
        "    \"Quantity\": [10,50,5,3,40]\n",
        "}\n"
      ],
      "metadata": {
        "id": "rRQl-ZiSdTmD"
      },
      "execution_count": 2,
      "outputs": []
    },
    {
      "cell_type": "code",
      "source": [
        "import pandas as pd   # make sure pandas is imported first\n",
        "df = pd.DataFrame(data)\n"
      ],
      "metadata": {
        "id": "CBgOegS4dTve"
      },
      "execution_count": 4,
      "outputs": []
    },
    {
      "cell_type": "code",
      "source": [
        "print(df)\n"
      ],
      "metadata": {
        "colab": {
          "base_uri": "https://localhost:8080/"
        },
        "id": "52e9O5AVdTzY",
        "outputId": "de143039-e5e9-4737-a577-827a32536ed8"
      },
      "execution_count": 5,
      "outputs": [
        {
          "output_type": "stream",
          "name": "stdout",
          "text": [
            "   OrderID        Date   Product  UnitPrice  Quantity\n",
            "0     1001  2025-01-05  Notebook       3.50        10\n",
            "1     1002  2025-01-12       Pen       0.75        50\n",
            "2     1003  2025-01-20  Notebook       3.50         5\n",
            "3     1004  2025-02-01   Stapler       7.00         3\n",
            "4     1005  2025-02-03       Pen       0.75        40\n"
          ]
        }
      ]
    },
    {
      "cell_type": "code",
      "source": [
        "df['Date'] = pd.to_datetime(df['Date'])\n",
        "print(df)\n"
      ],
      "metadata": {
        "colab": {
          "base_uri": "https://localhost:8080/"
        },
        "id": "gKlC1fhWdT2v",
        "outputId": "e09ca4f9-f898-4ddc-f55e-a0c45fc8d215"
      },
      "execution_count": 6,
      "outputs": [
        {
          "output_type": "stream",
          "name": "stdout",
          "text": [
            "   OrderID       Date   Product  UnitPrice  Quantity\n",
            "0     1001 2025-01-05  Notebook       3.50        10\n",
            "1     1002 2025-01-12       Pen       0.75        50\n",
            "2     1003 2025-01-20  Notebook       3.50         5\n",
            "3     1004 2025-02-01   Stapler       7.00         3\n",
            "4     1005 2025-02-03       Pen       0.75        40\n"
          ]
        }
      ]
    },
    {
      "cell_type": "code",
      "source": [
        "df['Sales'] = df['UnitPrice'] * df['Quantity']\n",
        "print(df)\n"
      ],
      "metadata": {
        "colab": {
          "base_uri": "https://localhost:8080/"
        },
        "id": "YOdlCAVQd-hK",
        "outputId": "8abeed51-ead6-43d8-c3a5-096a3e64daff"
      },
      "execution_count": 7,
      "outputs": [
        {
          "output_type": "stream",
          "name": "stdout",
          "text": [
            "   OrderID       Date   Product  UnitPrice  Quantity  Sales\n",
            "0     1001 2025-01-05  Notebook       3.50        10   35.0\n",
            "1     1002 2025-01-12       Pen       0.75        50   37.5\n",
            "2     1003 2025-01-20  Notebook       3.50         5   17.5\n",
            "3     1004 2025-02-01   Stapler       7.00         3   21.0\n",
            "4     1005 2025-02-03       Pen       0.75        40   30.0\n"
          ]
        }
      ]
    },
    {
      "cell_type": "code",
      "source": [
        "total_sales = df['Sales'].sum()\n",
        "print(\"Total Sales:\", total_sales)\n"
      ],
      "metadata": {
        "colab": {
          "base_uri": "https://localhost:8080/"
        },
        "id": "MUFT4iEKd-pU",
        "outputId": "2013d5d5-2411-46a2-ff14-b63c4e33bbb3"
      },
      "execution_count": 8,
      "outputs": [
        {
          "output_type": "stream",
          "name": "stdout",
          "text": [
            "Total Sales: 141.0\n"
          ]
        }
      ]
    },
    {
      "cell_type": "code",
      "source": [
        "top_products = df.groupby('Product', as_index=False)['Sales'].sum()\n",
        "print(top_products)\n"
      ],
      "metadata": {
        "colab": {
          "base_uri": "https://localhost:8080/"
        },
        "id": "ULXdkAkjd-sX",
        "outputId": "dc570449-5a58-4144-c5f6-c8bbe2074005"
      },
      "execution_count": 9,
      "outputs": [
        {
          "output_type": "stream",
          "name": "stdout",
          "text": [
            "    Product  Sales\n",
            "0  Notebook   52.5\n",
            "1       Pen   67.5\n",
            "2   Stapler   21.0\n"
          ]
        }
      ]
    },
    {
      "cell_type": "code",
      "source": [
        "top_products = top_products.sort_values('Sales', ascending=False)\n",
        "print(top_products)\n"
      ],
      "metadata": {
        "colab": {
          "base_uri": "https://localhost:8080/"
        },
        "id": "CM5eAj7Ed-vW",
        "outputId": "a01840b7-82bb-4352-eb9e-5e1026b6f045"
      },
      "execution_count": 10,
      "outputs": [
        {
          "output_type": "stream",
          "name": "stdout",
          "text": [
            "    Product  Sales\n",
            "1       Pen   67.5\n",
            "0  Notebook   52.5\n",
            "2   Stapler   21.0\n"
          ]
        }
      ]
    },
    {
      "cell_type": "code",
      "source": [
        "df['YearMonth'] = df['Date'].dt.to_period('M').astype(str)\n",
        "monthly_sales = df.groupby('YearMonth', as_index=False)['Sales'].sum()\n",
        "print(monthly_sales)\n"
      ],
      "metadata": {
        "colab": {
          "base_uri": "https://localhost:8080/"
        },
        "id": "6stRNtzKd-yP",
        "outputId": "1e01b46d-8036-4c1a-be83-8436c26fed68"
      },
      "execution_count": 11,
      "outputs": [
        {
          "output_type": "stream",
          "name": "stdout",
          "text": [
            "  YearMonth  Sales\n",
            "0   2025-01   90.0\n",
            "1   2025-02   51.0\n"
          ]
        }
      ]
    },
    {
      "cell_type": "code",
      "source": [
        "import matplotlib.pyplot as plt\n",
        "\n",
        "plt.bar(top_products['Product'], top_products['Sales'])\n",
        "plt.title('Sales by Product')\n",
        "plt.xlabel('Product')\n",
        "plt.ylabel('Sales')\n",
        "plt.show()\n"
      ],
      "metadata": {
        "colab": {
          "base_uri": "https://localhost:8080/",
          "height": 472
        },
        "id": "xRmKUIMId-1Y",
        "outputId": "8d969271-1ef4-4f5e-ab9c-6c226582fc72"
      },
      "execution_count": 12,
      "outputs": [
        {
          "output_type": "display_data",
          "data": {
            "text/plain": [
              "<Figure size 640x480 with 1 Axes>"
            ],
            "image/png": "[encoded data removed]"
          },
          "metadata": {}
        }
      ]
    },
    {
      "cell_type": "code",
      "source": [
        "plt.plot(monthly_sales['YearMonth'], monthly_sales['Sales'], marker='o')\n",
        "plt.title('Monthly Sales Trend')\n",
        "plt.xlabel('Month')\n",
        "plt.ylabel('Sales')\n",
        "plt.grid(True)\n",
        "plt.show()\n"
      ],
      "metadata": {
        "colab": {
          "base_uri": "https://localhost:8080/",
          "height": 472
        },
        "id": "adPUSZBSd-4I",
        "outputId": "6daf5c83-e7b0-4da3-e60d-e5eaf8b7387b"
      },
      "execution_count": 13,
      "outputs": [
        {
          "output_type": "display_data",
          "data": {
            "text/plain": [
              "<Figure size 640x480 with 1 Axes>"
            ],
            "image/png": "[encoded data removed]"
          },
          "metadata": {}
        }
      ]
    },
    {
      "cell_type": "code",
      "source": [
        "print(\"Total Sales:\", total_sales)\n",
        "print(\"Best Product:\", top_products.iloc[0]['Product'])\n"
      ],
      "metadata": {
        "colab": {
          "base_uri": "https://localhost:8080/"
        },
        "id": "wQQvS0G0d-61",
        "outputId": "c40d8ac0-9713-4cad-9963-5a1795f239d2"
      },
      "execution_count": 14,
      "outputs": [
        {
          "output_type": "stream",
          "name": "stdout",
          "text": [
            "Total Sales: 141.0\n",
            "Best Product: Pen\n"
          ]
        }
      ]
    }
  ]
}